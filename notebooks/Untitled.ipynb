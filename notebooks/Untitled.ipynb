{
 "cells": [
  {
   "cell_type": "code",
   "execution_count": null,
   "id": "a6bce8d2-4f1a-49a6-a0c0-b7434971cab6",
   "metadata": {},
   "outputs": [],
   "source": [
    "def attention_model(image, k, v):\n",
    "    H, W, iC = image.shape    oC = v.shape[2]\n",
    "        # نرمال‌سازی تصویر\n",
    "    normalized_image = image / np.linalg.norm(image, axis=(0,1), keepdims=True)    \n",
    "    # پیاده‌سازی با حلقه‌های پایتون    output = np.zeros((H, W, oC))\n",
    "    for i in range(H):        for j in range(W):\n",
    "            for c in range(oC):                q_ij = normalized_image[max(0,i-1):min(H,i+2), max(0,j-1):min(W,j+2), :]\n",
    "                k_c = k[:,:,:,c]                v_c = v[:,:,c]\n",
    "                                attention_scores = np.sum(q_ij * k_c, axis=(0,1,2))\n",
    "                attention_weights = np.exp(attention_scores) / np.sum(np.exp(attention_scores))                \n",
    "                output[i,j,c] = np.sum(attention_weights * v_c)    \n",
    "    # پیاده‌سازی با استفاده از توابع NumPy    def numpy_attention(image, k, v):\n",
    "        H, W, iC = image.shape        oC = v.shape[2]\n",
    "                normalized_image = image / np.linalg.norm(image, axis=(0,1), keepdims=True)\n",
    "                # پدینگ تصویر\n",
    "        padded_image = np.pad(normalized_image, ((1,1), (1,1), (0,0)), mode='constant')        \n",
    "        # محاسبه امتیازات توجه با استفاده از کانولوشن\n",
    "        attention_scores = np.zeros((H, W, oC, 9))        for i in range(3):\n",
    "            for j in range(3):                attention_scores[:,:,:,i*3+j] = np.sum(\n",
    "                    padded_image[i:i+H, j:j+W, :, np.newaxis] * k[i,j,:,:],                    axis=2\n",
    "                )        \n",
    "        # نرمال‌سازی امتیازات توجه        attention_weights = np.exp(attention_scores) / np.sum(np.exp(attention_scores), axis=3, keepdims=True)\n",
    "                # محاسبه خروجی نهایی\n",
    "        output = np.sum(attention_weights[:,:,:,:,np.newaxis] * v[np.newaxis,np.newaxis,:,:,:], axis=3)        \n",
    "        return output    \n",
    "    return output, numpy_attention(normalized_image, k, v)"
   ]
  }
 ],
 "metadata": {
  "kernelspec": {
   "display_name": "Python 3 (ipykernel)",
   "language": "python",
   "name": "python3"
  },
  "language_info": {
   "codemirror_mode": {
    "name": "ipython",
    "version": 3
   },
   "file_extension": ".py",
   "mimetype": "text/x-python",
   "name": "python",
   "nbconvert_exporter": "python",
   "pygments_lexer": "ipython3",
   "version": "3.11.8"
  }
 },
 "nbformat": 4,
 "nbformat_minor": 5
}
